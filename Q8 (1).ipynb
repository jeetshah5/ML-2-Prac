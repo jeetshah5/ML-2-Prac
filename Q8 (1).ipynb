{
  "nbformat": 4,
  "nbformat_minor": 0,
  "metadata": {
    "colab": {
      "provenance": []
    },
    "kernelspec": {
      "name": "python3",
      "display_name": "Python 3"
    },
    "language_info": {
      "name": "python"
    }
  },
  "cells": [
    {
      "cell_type": "code",
      "source": [
        "import numpy as np\n",
        "import matplotlib.pyplot as plt"
      ],
      "metadata": {
        "id": "P_emMX7nwnv3"
      },
      "execution_count": 5,
      "outputs": []
    },
    {
      "cell_type": "code",
      "source": [
        "X = np.array([[0.5], [2.5]])\n",
        "Y = np.array([[0.2], [0.9]])"
      ],
      "metadata": {
        "id": "gi1qFzRQwPRu"
      },
      "execution_count": 6,
      "outputs": []
    },
    {
      "cell_type": "code",
      "source": [
        "W = np.random.rand(1,1)\n",
        "b = np.random.rand(1)\n",
        "\n",
        "num_epochs = 100\n",
        "learning_rate = 0.01"
      ],
      "metadata": {
        "id": "v7QFKpMGwM4z"
      },
      "execution_count": 7,
      "outputs": []
    },
    {
      "cell_type": "code",
      "source": [
        "losses = []\n",
        "for i in range(num_epochs):\n",
        "    outputs = np.dot(X,W) + b\n",
        "    errors = Y - outputs\n",
        "    loss = np.sum(errors**2)\n",
        "    losses.append(loss)\n",
        "\n",
        "\n",
        "    dW = -2*np.dot(X.T, errors)\n",
        "    db = -2*np.sum(errors)\n",
        "\n",
        "    W += learning_rate * dW\n",
        "    b += learning_rate * db"
      ],
      "metadata": {
        "id": "e_ZNFv4pwU1d"
      },
      "execution_count": 8,
      "outputs": []
    },
    {
      "cell_type": "code",
      "source": [
        "plt.plot(losses)\n",
        "plt.xlabel('Iteration')\n",
        "plt.ylabel('Loss')\n",
        "plt.show()\n",
        "\n",
        "print(\"Final weight:\", W)\n",
        "print(\"Final bias:\", b)"
      ],
      "metadata": {
        "colab": {
          "base_uri": "https://localhost:8080/",
          "height": 500
        },
        "id": "ahRgdTCLwU3s",
        "outputId": "629de833-91b9-4812-c55e-7404ee0d82df"
      },
      "execution_count": 9,
      "outputs": [
        {
          "output_type": "display_data",
          "data": {
            "text/plain": [
              "<Figure size 640x480 with 1 Axes>"
            ],
            "image/png": "[encoded data removed]"
          },
          "metadata": {}
        },
        {
          "output_type": "stream",
          "name": "stdout",
          "text": [
            "Final weight: [[1179529.6177843]]\n",
            "Final bias: [589764.54315332]\n"
          ]
        }
      ]
    },
    {
      "cell_type": "code",
      "source": [],
      "metadata": {
        "id": "8BnQjhlxwU54"
      },
      "execution_count": null,
      "outputs": []
    },
    {
      "cell_type": "code",
      "source": [],
      "metadata": {
        "id": "Rj1MViDiwU9S"
      },
      "execution_count": null,
      "outputs": []
    },
    {
      "cell_type": "code",
      "source": [],
      "metadata": {
        "id": "qJPszg8owVFp"
      },
      "execution_count": null,
      "outputs": []
    }
  ]
}