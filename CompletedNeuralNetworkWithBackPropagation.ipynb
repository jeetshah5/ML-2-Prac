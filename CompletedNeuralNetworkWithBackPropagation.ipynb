{
 "cells": [
  {
   "cell_type": "code",
   "execution_count": 266,
   "id": "0b49bd89",
   "metadata": {},
   "outputs": [],
   "source": [
    "import pandas as pd\n",
    "import numpy as np\n",
    "import copy"
   ]
  },
  {
   "cell_type": "code",
   "execution_count": 72,
   "id": "a06958a2",
   "metadata": {},
   "outputs": [],
   "source": [
    "class node:\n",
    "#     nextLayerNodeCount=0\n",
    "#     inputToNode=0\n",
    "#     outputOfNode=0\n",
    "#     bias=0\n",
    "    def __init__(self,nextLayerNodeCount):\n",
    "        self.outGoingWeights=[]\n",
    "        self.initializeWeights(nextLayerNodeCount)\n",
    "        self.nextLayerNodeCount = nextLayerNodeCount\n",
    "        return\n",
    "    \n",
    "    def initializeWeights(self,count):\n",
    "        for i in range(0,count):\n",
    "            self.outGoingWeights.append(np.random.rand())\n",
    "        return\n",
    "    \n",
    "    def getOutputOfNode(self,inputToNode):\n",
    "        self.inputToNode=inputToNode\n",
    "        self.outputOfNode = self.activationFunction(inputToNode)\n",
    "        return self.outputOfNode\n",
    "        \n",
    "    def activationFunction(self,inputToNode):\n",
    "        return 1/(1+np.exp(-inputToNode))\n",
    "    \n",
    "    def getOutGoingWeights(self):\n",
    "        return self.outGoingWeights\n",
    "    \n",
    "    def updateOutGoingWeights(self,delta_W):\n",
    "        for i in range(0,self.nextLayerNodeCount):\n",
    "            self.outGoingWeights[i]=self.outGoingWeights[i]+delta_W\n",
    "        return"
   ]
  },
  {
   "cell_type": "code",
   "execution_count": 335,
   "id": "4c6037e0",
   "metadata": {},
   "outputs": [],
   "source": [
    "class Layer:\n",
    "#     numOfNodes = 0\n",
    "#     nextLayerNodeCount=0\n",
    "#     nodes=[]\n",
    "#     layerType=\"hidden\"\n",
    "#     inputs=[]\n",
    "#     outputs=[]\n",
    "#     delta=[]\n",
    "#     nextLayer\n",
    "#     prevLayer\n",
    "#     inputToNextLayer=[]\n",
    "    \n",
    "    def __init__(self,Layertype,nodeCount,nextLayerNodeCount,prevLayer):\n",
    "        self.nextLayerNodeCount = nextLayerNodeCount\n",
    "        self.nodes=[]\n",
    "        self.delta=[]\n",
    "        self.numOfNodes=nodeCount\n",
    "        for i in range(0,nodeCount):\n",
    "            self.nodes.append(node(nextLayerNodeCount))\n",
    "        self.layerType =Layertype\n",
    "        self.prevLayer = prevLayer\n",
    "        return\n",
    "    \n",
    "    def setNextLayer(self,nextLayer):\n",
    "        self.nextLayer = nextLayer\n",
    "        return\n",
    "    \n",
    "    def doForwardPropagation(self,inputFromPrevLayer):\n",
    "        outputFromCurrentLayer = copy.deepcopy(inputFromPrevLayer)\n",
    "        self.inputs=inputFromPrevLayer\n",
    "        if(self.layerType==\"input\"):\n",
    "            self.outputs = inputFromPrevLayer\n",
    "        if(self.layerType != \"input\"): #applying activation function to every layer except input layer\n",
    "            for nodeInCurrentLayer in range(0,self.numOfNodes):\n",
    "                outputFromCurrentLayer[nodeInCurrentLayer] = self.nodes[nodeInCurrentLayer].getOutputOfNode(inputFromPrevLayer[nodeInCurrentLayer])\n",
    "            self.outputs=outputFromCurrentLayer\n",
    "        self.nextLayerNodeCount = self.nodes[0].nextLayerNodeCount\n",
    "        if(self.layerType != \"output\"): #calculating input for next layer\n",
    "            weightMatrix = []\n",
    "            inputForNextLayer = []\n",
    "            for i in range(0,self.numOfNodes):\n",
    "                weightMatrix.append(self.nodes[i].getOutGoingWeights())\n",
    "            for nodeInNextLayer in range(0,self.nextLayerNodeCount):\n",
    "                summation = 0\n",
    "                for nodeInCurrentLayer in range(0,self.numOfNodes):\n",
    "                    summation = summation + (weightMatrix[nodeInCurrentLayer][nodeInNextLayer]*outputFromCurrentLayer[nodeInCurrentLayer])\n",
    "                inputForNextLayer.append(summation)\n",
    "            self.inputToNextLayer=inputForNextLayer\n",
    "            return inputForNextLayer\n",
    "        self.outputs=outputFromCurrentLayer\n",
    "        return outputFromCurrentLayer\n",
    "    \n",
    "    def calculateDeltaForLayer(self,error):\n",
    "        if(self.layerType==\"output\"): #using formula delta_w = n*delta*outputOfThisNode and delta = y(1-y)*(y-y_cap)\n",
    "            #initialize delta list\n",
    "            if(len(self.delta)<1):\n",
    "                for i in range(0,self.numOfNodes):\n",
    "                    self.delta.append(0)\n",
    "            for i in range(0,self.numOfNodes):\n",
    "                self.delta[i] = self.outputs[i]*(1-self.outputs[i])*error\n",
    "            return\n",
    "        else:\n",
    "            #initialize delta list\n",
    "            if(len(self.delta)<1):\n",
    "                for i in range(0,self.numOfNodes):\n",
    "                    self.delta.append(0)\n",
    "            nextLayerNodeCount = self.nextLayerNodeCount\n",
    "            nextLayerDelta = self.nextLayer.delta\n",
    "            for i in range(0,self.numOfNodes):\n",
    "                currentNodeWeights = self.nodes[i].getOutGoingWeights()\n",
    "                summation = 0\n",
    "                for j in range(0,len(nextLayerDelta)):\n",
    "                    summation = summation + currentNodeWeights[j]*nextLayerDelta[j]\n",
    "                self.delta[i]=summation*self.outputs[i]*(1-self.outputs[i])\n",
    "            return\n",
    "    \n",
    "    def doWeightUpdateForLayer(self,learningRate):\n",
    "        #only called on input and hidden layers.\n",
    "        for i in range(0,self.numOfNodes):\n",
    "            delta_w=self.delta[i]*learningRate*self.outputs[i] #since the output of current layer will be input in the next layer\n",
    "            self.nodes[i].updateOutGoingWeights(delta_w)\n",
    "        return            "
   ]
  },
  {
   "cell_type": "code",
   "execution_count": 359,
   "id": "d3e8dbd4",
   "metadata": {},
   "outputs": [],
   "source": [
    "class NeuralNetwork :\n",
    "#     inputLayer\n",
    "#     outputLayer\n",
    "#     noOfHiddenLayer\n",
    "#     nodeCount in each layer\n",
    "#     hiddenLayers\n",
    "    \n",
    "    def __init__(self,nodeCountInInputLayer,nodeCountInOutputLayer,nodeCountInHiddenLayers):\n",
    "        self.nodeCountInInputLayer = nodeCountInInputLayer\n",
    "        self.nodeCountInOutputLayer = nodeCountInOutputLayer\n",
    "        self.nodeCountInHiddenLayers = nodeCountInHiddenLayers\n",
    "        self.hiddenLayers=[]\n",
    "        self.initializeLayer(nodeCountInInputLayer,\"input\")\n",
    "        self.initializeLayer(nodeCountInHiddenLayers,\"hidden\")\n",
    "        self.initializeLayer(nodeCountInOutputLayer,\"output\")\n",
    "        return\n",
    "    \n",
    "    def initializeLayer(self,nodeCountInLayer,layerType):\n",
    "        if(layerType==\"input\"):\n",
    "            self.inputLayer = Layer(layerType,nodeCountInLayer,self.nodeCountInHiddenLayers[0],None)\n",
    "            return self.inputLayer\n",
    "        if(layerType==\"hidden\"):\n",
    "            prevLayer = self.inputLayer\n",
    "            self.noOfHiddenLayer = len(nodeCountInLayer)\n",
    "            for i in range(0,self.noOfHiddenLayer-1):\n",
    "                self.hiddenLayers.append(Layer(layerType,nodeCountInLayer[i],nodeCountInLayer[i+1],prevLayer))\n",
    "                prevLayer = self.hiddenLayers[i-1]\n",
    "            #now manually adding the last hidden layer, since last wont be added by the above loop.\n",
    "            if(self.noOfHiddenLayer > 1):\n",
    "                prevLayer = self.hiddenLayers[self.noOfHiddenLayer-2]\n",
    "                self.hiddenLayers.append(Layer(layerType,nodeCountInLayer[self.noOfHiddenLayer-1],self.nodeCountInOutputLayer,prevLayer))\n",
    "            else :\n",
    "                #handling the case that if only one hidden layer is there\n",
    "                self.hiddenLayers.append(Layer(layerType,nodeCountInLayer[0],self.nodeCountInOutputLayer,prevLayer))\n",
    "            #setting next layer info for future use\n",
    "            self.inputLayer.setNextLayer(self.hiddenLayers[0])\n",
    "            return\n",
    "        if(layerType==\"output\"):\n",
    "            self.outputLayer = Layer(layerType,self.nodeCountInOutputLayer,0,self.hiddenLayers[self.noOfHiddenLayer-1])\n",
    "            #setting next layer info for future use\n",
    "            self.outputLayer.setNextLayer(None)\n",
    "            for i in range(0,self.noOfHiddenLayer-1):\n",
    "                self.hiddenLayers[i].setNextLayer(self.hiddenLayers[i+1])\n",
    "            self.hiddenLayers[self.noOfHiddenLayer-1].setNextLayer(self.outputLayer)\n",
    "            return\n",
    "    def doForwardPropagation(self,inputs):\n",
    "        inputToNextLayer = self.inputLayer.doForwardPropagation(inputs)\n",
    "        outputOfPrevLayer = inputToNextLayer\n",
    "        for i in range(0,self.noOfHiddenLayer):\n",
    "            inputToNextLayer = self.hiddenLayers[i].doForwardPropagation(outputOfPrevLayer)\n",
    "            outputOfPrevLayer = inputToNextLayer\n",
    "        output = self.outputLayer.doForwardPropagation(inputToNextLayer)\n",
    "        return output\n",
    "    \n",
    "    def doBackwardPropagation(self,predictedOutput,desiredOutput,learningRate):\n",
    "        error = desiredOutput - predictedOutput\n",
    "        #all the weight updates will take place after calculation of all the deltas for all the layers.\n",
    "        self.outputLayer.calculateDeltaForLayer(error)\n",
    "        for i in range(len(self.hiddenLayers)-1,-1,-1):\n",
    "            self.hiddenLayers[i].calculateDeltaForLayer(error)\n",
    "        self.inputLayer.calculateDeltaForLayer(error)\n",
    "        #now updating weights for each\n",
    "        for i in range(len(self.hiddenLayers)-1,-1,-1):\n",
    "            self.hiddenLayers[i].doWeightUpdateForLayer(learningRate)\n",
    "        self.inputLayer.doWeightUpdateForLayer(error)\n",
    "        return"
   ]
  },
  {
   "cell_type": "code",
   "execution_count": 374,
   "id": "e68685ec",
   "metadata": {},
   "outputs": [],
   "source": [
    "nn = NeuralNetwork(2,1,[3,2])"
   ]
  },
  {
   "cell_type": "code",
   "execution_count": 375,
   "id": "d47e64e1",
   "metadata": {},
   "outputs": [
    {
     "name": "stdout",
     "output_type": "stream",
     "text": [
      "[0.05518640190427915, 0.27208934402039786, 0.9119389699029733]\n",
      "[0.02438606604502125, 0.9654264760793342, 0.3177448240490972]\n",
      "[0.3893008818646333, 0.13978766379808993]\n",
      "[0.2985889242225881, 0.15400675718551404]\n",
      "[]\n"
     ]
    }
   ],
   "source": [
    "print((nn.inputLayer.nodes[0].outGoingWeights))\n",
    "print((nn.inputLayer.nodes[1].outGoingWeights))\n",
    "# print((nn.inputLayer.nodes[4].outGoingWeights))\n",
    "print((nn.hiddenLayers[0].nodes[0].outGoingWeights))\n",
    "print((nn.hiddenLayers[0].nodes[1].outGoingWeights))\n",
    "print((nn.outputLayer.nodes[0].outGoingWeights))"
   ]
  },
  {
   "cell_type": "code",
   "execution_count": 376,
   "id": "5444a7ac",
   "metadata": {},
   "outputs": [
    {
     "name": "stdout",
     "output_type": "stream",
     "text": [
      "[0.02785036378225514, 0.43313053703490617, 0.43038932788322465]\n",
      "[0.35, 0.35]\n",
      "[0.35, 0.35]\n"
     ]
    }
   ],
   "source": [
    "print(nn.inputLayer.doForwardPropagation([0.35,0.35]))\n",
    "print(nn.inputLayer.inputs)\n",
    "print(nn.inputLayer.outputs)\n",
    "#the values are correct\n",
    "#thus forward propagation works for i/p, hidden, o/p layers"
   ]
  },
  {
   "cell_type": "code",
   "execution_count": 377,
   "id": "6d4159fa",
   "metadata": {},
   "outputs": [
    {
     "name": "stdout",
     "output_type": "stream",
     "text": [
      "[0.6946646406637885]\n",
      "error is equal to : 0.19466464066378852\n"
     ]
    }
   ],
   "source": [
    "predOutput = nn.doForwardPropagation([0.35,0.35])\n",
    "print(predOutput)\n",
    "print(\"error is equal to : \"+str(predOutput[0] - 0.5))\n",
    "#thus forward propagation is working well"
   ]
  },
  {
   "cell_type": "code",
   "execution_count": 378,
   "id": "93ae2015",
   "metadata": {},
   "outputs": [
    {
     "name": "stdout",
     "output_type": "stream",
     "text": [
      "None\n"
     ]
    }
   ],
   "source": [
    "print(nn.doBackwardPropagation(predOutput[0],0.5,0.5))"
   ]
  },
  {
   "cell_type": "code",
   "execution_count": 379,
   "id": "2646e27a",
   "metadata": {},
   "outputs": [],
   "source": [
    "for i in range(0,10000):\n",
    "    predOutput = nn.doForwardPropagation([0.35,0.35])\n",
    "    nn.doBackwardPropagation(predOutput[0],0.5,0.5)"
   ]
  },
  {
   "cell_type": "code",
   "execution_count": 380,
   "id": "a94fbe22",
   "metadata": {},
   "outputs": [
    {
     "name": "stdout",
     "output_type": "stream",
     "text": [
      "[0.5053998457790096]\n",
      "error is equal to : 0.005399845779009649\n"
     ]
    }
   ],
   "source": [
    "predOutput = nn.doForwardPropagation([0.35,0.35])\n",
    "print(predOutput)\n",
    "print(\"error is equal to : \"+str(predOutput[0] - 0.5))"
   ]
  },
  {
   "cell_type": "code",
   "execution_count": null,
   "id": "f57e5e0c",
   "metadata": {},
   "outputs": [],
   "source": []
  }
 ],
 "metadata": {
  "kernelspec": {
   "display_name": "Python 3 (ipykernel)",
   "language": "python",
   "name": "python3"
  },
  "language_info": {
   "codemirror_mode": {
    "name": "ipython",
    "version": 3
   },
   "file_extension": ".py",
   "mimetype": "text/x-python",
   "name": "python",
   "nbconvert_exporter": "python",
   "pygments_lexer": "ipython3",
   "version": "3.9.13"
  }
 },
 "nbformat": 4,
 "nbformat_minor": 5
}
