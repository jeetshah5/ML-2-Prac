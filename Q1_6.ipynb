{
  "nbformat": 4,
  "nbformat_minor": 0,
  "metadata": {
    "colab": {
      "provenance": []
    },
    "kernelspec": {
      "name": "python3",
      "display_name": "Python 3"
    },
    "language_info": {
      "name": "python"
    }
  },
  "cells": [
    {
      "cell_type": "code",
      "execution_count": 1,
      "metadata": {
        "colab": {
          "base_uri": "https://localhost:8080/"
        },
        "id": "4B53cZf7R904",
        "outputId": "e249e383-697b-4bdb-daef-9afb09215a05"
      },
      "outputs": [
        {
          "output_type": "stream",
          "name": "stdout",
          "text": [
            "AND(0, 0) = 0\n",
            "AND(0, 1) = 0\n",
            "AND(1, 0) = 0\n",
            "AND(1, 1) = 1\n"
          ]
        }
      ],
      "source": [
        "def AND_gate(x1, x2):\n",
        "    # Define weights and bias\n",
        "    weight1 = 0.5\n",
        "    weight2 = 0.5\n",
        "    bias = -0.7\n",
        "\n",
        "    # Compute the weighted sum\n",
        "    weighted_sum = x1 * weight1 + x2 * weight2 + bias\n",
        "\n",
        "    # Apply step function (or any other activation function)\n",
        "    output = 1 if weighted_sum > 0 else 0\n",
        "\n",
        "    return output\n",
        "\n",
        "# Test the AND gate\n",
        "print(\"AND(0, 0) =\", AND_gate(0, 0))\n",
        "print(\"AND(0, 1) =\", AND_gate(0, 1))\n",
        "print(\"AND(1, 0) =\", AND_gate(1, 0))\n",
        "print(\"AND(1, 1) =\", AND_gate(1, 1))\n"
      ]
    },
    {
      "cell_type": "code",
      "source": [
        "def OR_gate(x1, x2):\n",
        "    # Define weights and bias\n",
        "    weight1 = 0.5\n",
        "    weight2 = 0.5\n",
        "    bias = -0.2\n",
        "\n",
        "    # Compute the weighted sum\n",
        "    weighted_sum = x1 * weight1 + x2 * weight2 + bias\n",
        "\n",
        "    # Apply step function (or any other activation function)\n",
        "    output = 1 if weighted_sum > 0 else 0\n",
        "\n",
        "    return output\n",
        "\n",
        "# Test the OR gate\n",
        "print(\"OR(0, 0) =\", OR_gate(0, 0))\n",
        "print(\"OR(0, 1) =\", OR_gate(0, 1))\n",
        "print(\"OR(1, 0) =\", OR_gate(1, 0))\n",
        "print(\"OR(1, 1) =\", OR_gate(1, 1))"
      ],
      "metadata": {
        "colab": {
          "base_uri": "https://localhost:8080/"
        },
        "id": "FAa9pgfASkND",
        "outputId": "543e1584-5ac1-4e56-f7f5-7fe24a8f3725"
      },
      "execution_count": 2,
      "outputs": [
        {
          "output_type": "stream",
          "name": "stdout",
          "text": [
            "OR(0, 0) = 0\n",
            "OR(0, 1) = 1\n",
            "OR(1, 0) = 1\n",
            "OR(1, 1) = 1\n"
          ]
        }
      ]
    },
    {
      "cell_type": "code",
      "source": [
        "def NOT_gate(x):\n",
        "    # Define weight and bias\n",
        "    weight = -1.0  # Negative weight to implement NOT operation\n",
        "    bias = 0.5\n",
        "\n",
        "    # Compute the weighted sum\n",
        "    weighted_sum = x * weight + bias\n",
        "\n",
        "    # Apply step function (or any other activation function)\n",
        "    output = 1 if weighted_sum > 0 else 0\n",
        "\n",
        "    return output\n",
        "\n",
        "# Test the NOT gate\n",
        "print(\"NOT(0) =\", NOT_gate(0))\n",
        "print(\"NOT(1) =\", NOT_gate(1))\n"
      ],
      "metadata": {
        "colab": {
          "base_uri": "https://localhost:8080/"
        },
        "id": "P8CgMbAtSy_1",
        "outputId": "f4c730bb-2ee8-4946-d8b8-4d64f361f131"
      },
      "execution_count": 3,
      "outputs": [
        {
          "output_type": "stream",
          "name": "stdout",
          "text": [
            "NOT(0) = 1\n",
            "NOT(1) = 0\n"
          ]
        }
      ]
    },
    {
      "cell_type": "code",
      "source": [
        "def NOR_gate(x1, x2):\n",
        "    # Define weights and bias\n",
        "    weight1 = -0.5  # Negated weight for NOR (complement of OR)\n",
        "    weight2 = -0.5  # Negated weight for NOR (complement of OR)\n",
        "    bias = 0.3  # Negated bias for NOR (complement of OR)\n",
        "\n",
        "    # Compute the weighted sum\n",
        "    weighted_sum = x1 * weight1 + x2 * weight2 + bias\n",
        "\n",
        "    # Apply step function (or any other activation function)\n",
        "    output = 1 if weighted_sum > 0 else 0\n",
        "\n",
        "    return output\n",
        "\n",
        "# Test the NOR gate\n",
        "print(\"NOR(0, 0) =\", NOR_gate(0, 0))\n",
        "print(\"NOR(0, 1) =\", NOR_gate(0, 1))\n",
        "print(\"NOR(1, 0) =\", NOR_gate(1, 0))\n",
        "print(\"NOR(1, 1) =\", NOR_gate(1, 1))\n"
      ],
      "metadata": {
        "colab": {
          "base_uri": "https://localhost:8080/"
        },
        "id": "d5bTO5imS_e8",
        "outputId": "3b8821ce-60fd-4137-a4c6-4f6242bad4d3"
      },
      "execution_count": 5,
      "outputs": [
        {
          "output_type": "stream",
          "name": "stdout",
          "text": [
            "NOR(0, 0) = 1\n",
            "NOR(0, 1) = 0\n",
            "NOR(1, 0) = 0\n",
            "NOR(1, 1) = 0\n"
          ]
        }
      ]
    },
    {
      "cell_type": "code",
      "source": [
        "def NAND_gate(x1, x2):\n",
        "    # Define weights and bias\n",
        "    weight1 = -0.5  # Negated weight for NAND (complement of AND)\n",
        "    weight2 = -0.5  # Negated weight for NAND (complement of AND)\n",
        "    bias = 0.7  # Negated bias for NAND (complement of AND)\n",
        "\n",
        "    # Compute the weighted sum\n",
        "    weighted_sum = x1 * weight1 + x2 * weight2 + bias\n",
        "\n",
        "    # Apply step function (or any other activation function)\n",
        "    output = 1 if weighted_sum > 0 else 0\n",
        "\n",
        "    return output\n",
        "\n",
        "# Test the NAND gate\n",
        "print(\"NAND(0, 0) =\", NAND_gate(0, 0))\n",
        "print(\"NAND(0, 1) =\", NAND_gate(0, 1))\n",
        "print(\"NAND(1, 0) =\", NAND_gate(1, 0))\n",
        "print(\"NAND(1, 1) =\", NAND_gate(1, 1))\n"
      ],
      "metadata": {
        "colab": {
          "base_uri": "https://localhost:8080/"
        },
        "id": "J1V7vVE8TJiM",
        "outputId": "ffcdda83-eea7-474e-8c91-7076de0a3433"
      },
      "execution_count": 6,
      "outputs": [
        {
          "output_type": "stream",
          "name": "stdout",
          "text": [
            "NAND(0, 0) = 1\n",
            "NAND(0, 1) = 1\n",
            "NAND(1, 0) = 1\n",
            "NAND(1, 1) = 0\n"
          ]
        }
      ]
    },
    {
      "cell_type": "code",
      "source": [
        "import numpy as np\n",
        "\n",
        "# Input patterns and desired outputs\n",
        "X = np.array([[0, 0], [0, 1], [1, 0], [1, 1]])\n",
        "y = np.array([[0], [1], [1], [0]])\n",
        "\n",
        "# Hyperparameters\n",
        "learning_rate = 0.1\n",
        "epochs = 10\n",
        "\n",
        "# Initialize weights randomly\n",
        "w1 = np.random.rand()\n",
        "w2 = np.random.rand()\n",
        "b = np.random.rand()\n",
        "\n",
        "for i in range(epochs):\n",
        "    for x, target in zip(X, y):\n",
        "        # Feedforward step\n",
        "        sum = x[0]*w1 + x[1]*w2 + b\n",
        "        y_pred = 1 if sum > 0 else 0\n",
        "\n",
        "        # Update weights\n",
        "        error =  target - y_pred\n",
        "        w1 += learning_rate * error * x[0]\n",
        "        w2 += learning_rate * error * x[1]\n",
        "        b += learning_rate * error\n",
        "\n",
        "# Print final weights and bias\n",
        "print(\"Final weights:\", w1, w2)\n",
        "print(\"Final bias:\", b)"
      ],
      "metadata": {
        "colab": {
          "base_uri": "https://localhost:8080/"
        },
        "id": "HHvM8z9zUTny",
        "outputId": "567321d6-1a5e-4555-f9f1-0af8780a150a"
      },
      "execution_count": 12,
      "outputs": [
        {
          "output_type": "stream",
          "name": "stdout",
          "text": [
            "Final weights: [-0.16842651] [0.00442526]\n",
            "Final bias: [0.01772818]\n"
          ]
        }
      ]
    },
    {
      "cell_type": "code",
      "source": [],
      "metadata": {
        "id": "zUhiLL_GUgJv"
      },
      "execution_count": null,
      "outputs": []
    }
  ]
}